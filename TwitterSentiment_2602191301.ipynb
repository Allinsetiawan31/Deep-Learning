{
  "nbformat": 4,
  "nbformat_minor": 0,
  "metadata": {
    "colab": {
      "provenance": [],
      "machine_shape": "hm",
      "gpuType": "T4"
    },
    "kernelspec": {
      "name": "python3",
      "display_name": "Python 3"
    },
    "language_info": {
      "name": "python"
    },
    "accelerator": "GPU"
  },
  "cells": [
    {
      "cell_type": "markdown",
      "source": [
        "2602191301 - Allin Setiawan\n",
        "\n",
        "**Twitter Sentiment Analisis**\n",
        "* teknik yang digunakan untuk  memahami dan mengekstrak opini, persepsi dan emosi dari percakapan dalam twitter.\n",
        "* Case: Melakukan Prediksi Text yang telah dipost/dikirimkan oleh user apakah termasuk kedalam categori: netral, positif dan negatif jika negatif maka dapat melakukan takedown agar tidak menjatuhkan nama/brand, dsbnya."
      ],
      "metadata": {
        "id": "F9Gekv-OUAOE"
      }
    },
    {
      "cell_type": "code",
      "execution_count": 195,
      "metadata": {
        "id": "7_fDlTnaf75B"
      },
      "outputs": [],
      "source": [
        "import matplotlib.pyplot as plt\n",
        "import seaborn as sns\n",
        "import re\n",
        "import string\n",
        "import pandas as pd\n",
        "import numpy as np\n",
        "import matplotlib.pyplot as plt\n",
        "import seaborn as sns\n",
        "from sklearn.metrics import confusion_matrix\n",
        "from gensim.models import Word2Vec\n",
        "from tensorflow.keras.preprocessing.text import Tokenizer\n",
        "from tensorflow.keras.preprocessing.sequence import pad_sequences\n",
        "from tensorflow.keras.models import Sequential\n",
        "from tensorflow.keras.layers import Embedding, LSTM, Dense, GRU, Dropout\n",
        "from sklearn.preprocessing import LabelEncoder\n",
        "import nltk\n",
        "from nltk.corpus import stopwords\n",
        "from nltk.tokenize import word_tokenize\n",
        "from nltk.stem import WordNetLemmatizer\n",
        "from sklearn.metrics import accuracy_score, confusion_matrix"
      ]
    },
    {
      "cell_type": "code",
      "source": [
        "!unzip /content/sentiment_twitter.zip"
      ],
      "metadata": {
        "id": "O5EZH-P1g0sO",
        "colab": {
          "base_uri": "https://localhost:8080/"
        },
        "outputId": "dac1f65f-432e-428e-ae88-41027f7e93bb"
      },
      "execution_count": 172,
      "outputs": [
        {
          "output_type": "stream",
          "name": "stdout",
          "text": [
            "Archive:  /content/sentiment_twitter.zip\n",
            "replace twitter_training.csv? [y]es, [n]o, [A]ll, [N]one, [r]ename: "
          ]
        }
      ]
    },
    {
      "cell_type": "markdown",
      "source": [
        "#Read Dataset"
      ],
      "metadata": {
        "id": "GrpWjuedg4vZ"
      }
    },
    {
      "cell_type": "markdown",
      "source": [
        "Sebelumnya dari dataset yang didapatkan sudah terbagi dengan dataset training dan dataset testnya."
      ],
      "metadata": {
        "id": "O7-ZM7LwVfZK"
      }
    },
    {
      "cell_type": "code",
      "source": [
        "df_train = pd.read_csv('twitter_training.csv')\n",
        "df_train.head()"
      ],
      "metadata": {
        "colab": {
          "base_uri": "https://localhost:8080/",
          "height": 206
        },
        "id": "m1d-5vZCg-Ly",
        "outputId": "c262a7bc-0664-4093-b671-fc01e502eb41"
      },
      "execution_count": 173,
      "outputs": [
        {
          "output_type": "execute_result",
          "data": {
            "text/plain": [
              "   2401  Borderlands  Positive  \\\n",
              "0  2401  Borderlands  Positive   \n",
              "1  2401  Borderlands  Positive   \n",
              "2  2401  Borderlands  Positive   \n",
              "3  2401  Borderlands  Positive   \n",
              "4  2401  Borderlands  Positive   \n",
              "\n",
              "  im getting on borderlands and i will murder you all ,  \n",
              "0  I am coming to the borders and I will kill you...     \n",
              "1  im getting on borderlands and i will kill you ...     \n",
              "2  im coming on borderlands and i will murder you...     \n",
              "3  im getting on borderlands 2 and i will murder ...     \n",
              "4  im getting into borderlands and i can murder y...     "
            ],
            "text/html": [
              "\n",
              "  <div id=\"df-77e694d6-7c4d-4b56-a001-baafd567af94\" class=\"colab-df-container\">\n",
              "    <div>\n",
              "<style scoped>\n",
              "    .dataframe tbody tr th:only-of-type {\n",
              "        vertical-align: middle;\n",
              "    }\n",
              "\n",
              "    .dataframe tbody tr th {\n",
              "        vertical-align: top;\n",
              "    }\n",
              "\n",
              "    .dataframe thead th {\n",
              "        text-align: right;\n",
              "    }\n",
              "</style>\n",
              "<table border=\"1\" class=\"dataframe\">\n",
              "  <thead>\n",
              "    <tr style=\"text-align: right;\">\n",
              "      <th></th>\n",
              "      <th>2401</th>\n",
              "      <th>Borderlands</th>\n",
              "      <th>Positive</th>\n",
              "      <th>im getting on borderlands and i will murder you all ,</th>\n",
              "    </tr>\n",
              "  </thead>\n",
              "  <tbody>\n",
              "    <tr>\n",
              "      <th>0</th>\n",
              "      <td>2401</td>\n",
              "      <td>Borderlands</td>\n",
              "      <td>Positive</td>\n",
              "      <td>I am coming to the borders and I will kill you...</td>\n",
              "    </tr>\n",
              "    <tr>\n",
              "      <th>1</th>\n",
              "      <td>2401</td>\n",
              "      <td>Borderlands</td>\n",
              "      <td>Positive</td>\n",
              "      <td>im getting on borderlands and i will kill you ...</td>\n",
              "    </tr>\n",
              "    <tr>\n",
              "      <th>2</th>\n",
              "      <td>2401</td>\n",
              "      <td>Borderlands</td>\n",
              "      <td>Positive</td>\n",
              "      <td>im coming on borderlands and i will murder you...</td>\n",
              "    </tr>\n",
              "    <tr>\n",
              "      <th>3</th>\n",
              "      <td>2401</td>\n",
              "      <td>Borderlands</td>\n",
              "      <td>Positive</td>\n",
              "      <td>im getting on borderlands 2 and i will murder ...</td>\n",
              "    </tr>\n",
              "    <tr>\n",
              "      <th>4</th>\n",
              "      <td>2401</td>\n",
              "      <td>Borderlands</td>\n",
              "      <td>Positive</td>\n",
              "      <td>im getting into borderlands and i can murder y...</td>\n",
              "    </tr>\n",
              "  </tbody>\n",
              "</table>\n",
              "</div>\n",
              "    <div class=\"colab-df-buttons\">\n",
              "\n",
              "  <div class=\"colab-df-container\">\n",
              "    <button class=\"colab-df-convert\" onclick=\"convertToInteractive('df-77e694d6-7c4d-4b56-a001-baafd567af94')\"\n",
              "            title=\"Convert this dataframe to an interactive table.\"\n",
              "            style=\"display:none;\">\n",
              "\n",
              "  <svg xmlns=\"http://www.w3.org/2000/svg\" height=\"24px\" viewBox=\"0 -960 960 960\">\n",
              "    <path d=\"M120-120v-720h720v720H120Zm60-500h600v-160H180v160Zm220 220h160v-160H400v160Zm0 220h160v-160H400v160ZM180-400h160v-160H180v160Zm440 0h160v-160H620v160ZM180-180h160v-160H180v160Zm440 0h160v-160H620v160Z\"/>\n",
              "  </svg>\n",
              "    </button>\n",
              "\n",
              "  <style>\n",
              "    .colab-df-container {\n",
              "      display:flex;\n",
              "      gap: 12px;\n",
              "    }\n",
              "\n",
              "    .colab-df-convert {\n",
              "      background-color: #E8F0FE;\n",
              "      border: none;\n",
              "      border-radius: 50%;\n",
              "      cursor: pointer;\n",
              "      display: none;\n",
              "      fill: #1967D2;\n",
              "      height: 32px;\n",
              "      padding: 0 0 0 0;\n",
              "      width: 32px;\n",
              "    }\n",
              "\n",
              "    .colab-df-convert:hover {\n",
              "      background-color: #E2EBFA;\n",
              "      box-shadow: 0px 1px 2px rgba(60, 64, 67, 0.3), 0px 1px 3px 1px rgba(60, 64, 67, 0.15);\n",
              "      fill: #174EA6;\n",
              "    }\n",
              "\n",
              "    .colab-df-buttons div {\n",
              "      margin-bottom: 4px;\n",
              "    }\n",
              "\n",
              "    [theme=dark] .colab-df-convert {\n",
              "      background-color: #3B4455;\n",
              "      fill: #D2E3FC;\n",
              "    }\n",
              "\n",
              "    [theme=dark] .colab-df-convert:hover {\n",
              "      background-color: #434B5C;\n",
              "      box-shadow: 0px 1px 3px 1px rgba(0, 0, 0, 0.15);\n",
              "      filter: drop-shadow(0px 1px 2px rgba(0, 0, 0, 0.3));\n",
              "      fill: #FFFFFF;\n",
              "    }\n",
              "  </style>\n",
              "\n",
              "    <script>\n",
              "      const buttonEl =\n",
              "        document.querySelector('#df-77e694d6-7c4d-4b56-a001-baafd567af94 button.colab-df-convert');\n",
              "      buttonEl.style.display =\n",
              "        google.colab.kernel.accessAllowed ? 'block' : 'none';\n",
              "\n",
              "      async function convertToInteractive(key) {\n",
              "        const element = document.querySelector('#df-77e694d6-7c4d-4b56-a001-baafd567af94');\n",
              "        const dataTable =\n",
              "          await google.colab.kernel.invokeFunction('convertToInteractive',\n",
              "                                                    [key], {});\n",
              "        if (!dataTable) return;\n",
              "\n",
              "        const docLinkHtml = 'Like what you see? Visit the ' +\n",
              "          '<a target=\"_blank\" href=https://colab.research.google.com/notebooks/data_table.ipynb>data table notebook</a>'\n",
              "          + ' to learn more about interactive tables.';\n",
              "        element.innerHTML = '';\n",
              "        dataTable['output_type'] = 'display_data';\n",
              "        await google.colab.output.renderOutput(dataTable, element);\n",
              "        const docLink = document.createElement('div');\n",
              "        docLink.innerHTML = docLinkHtml;\n",
              "        element.appendChild(docLink);\n",
              "      }\n",
              "    </script>\n",
              "  </div>\n",
              "\n",
              "\n",
              "<div id=\"df-2fcc41ba-3aa7-4c87-b5cc-4a77b6db4a51\">\n",
              "  <button class=\"colab-df-quickchart\" onclick=\"quickchart('df-2fcc41ba-3aa7-4c87-b5cc-4a77b6db4a51')\"\n",
              "            title=\"Suggest charts\"\n",
              "            style=\"display:none;\">\n",
              "\n",
              "<svg xmlns=\"http://www.w3.org/2000/svg\" height=\"24px\"viewBox=\"0 0 24 24\"\n",
              "     width=\"24px\">\n",
              "    <g>\n",
              "        <path d=\"M19 3H5c-1.1 0-2 .9-2 2v14c0 1.1.9 2 2 2h14c1.1 0 2-.9 2-2V5c0-1.1-.9-2-2-2zM9 17H7v-7h2v7zm4 0h-2V7h2v10zm4 0h-2v-4h2v4z\"/>\n",
              "    </g>\n",
              "</svg>\n",
              "  </button>\n",
              "\n",
              "<style>\n",
              "  .colab-df-quickchart {\n",
              "      --bg-color: #E8F0FE;\n",
              "      --fill-color: #1967D2;\n",
              "      --hover-bg-color: #E2EBFA;\n",
              "      --hover-fill-color: #174EA6;\n",
              "      --disabled-fill-color: #AAA;\n",
              "      --disabled-bg-color: #DDD;\n",
              "  }\n",
              "\n",
              "  [theme=dark] .colab-df-quickchart {\n",
              "      --bg-color: #3B4455;\n",
              "      --fill-color: #D2E3FC;\n",
              "      --hover-bg-color: #434B5C;\n",
              "      --hover-fill-color: #FFFFFF;\n",
              "      --disabled-bg-color: #3B4455;\n",
              "      --disabled-fill-color: #666;\n",
              "  }\n",
              "\n",
              "  .colab-df-quickchart {\n",
              "    background-color: var(--bg-color);\n",
              "    border: none;\n",
              "    border-radius: 50%;\n",
              "    cursor: pointer;\n",
              "    display: none;\n",
              "    fill: var(--fill-color);\n",
              "    height: 32px;\n",
              "    padding: 0;\n",
              "    width: 32px;\n",
              "  }\n",
              "\n",
              "  .colab-df-quickchart:hover {\n",
              "    background-color: var(--hover-bg-color);\n",
              "    box-shadow: 0 1px 2px rgba(60, 64, 67, 0.3), 0 1px 3px 1px rgba(60, 64, 67, 0.15);\n",
              "    fill: var(--button-hover-fill-color);\n",
              "  }\n",
              "\n",
              "  .colab-df-quickchart-complete:disabled,\n",
              "  .colab-df-quickchart-complete:disabled:hover {\n",
              "    background-color: var(--disabled-bg-color);\n",
              "    fill: var(--disabled-fill-color);\n",
              "    box-shadow: none;\n",
              "  }\n",
              "\n",
              "  .colab-df-spinner {\n",
              "    border: 2px solid var(--fill-color);\n",
              "    border-color: transparent;\n",
              "    border-bottom-color: var(--fill-color);\n",
              "    animation:\n",
              "      spin 1s steps(1) infinite;\n",
              "  }\n",
              "\n",
              "  @keyframes spin {\n",
              "    0% {\n",
              "      border-color: transparent;\n",
              "      border-bottom-color: var(--fill-color);\n",
              "      border-left-color: var(--fill-color);\n",
              "    }\n",
              "    20% {\n",
              "      border-color: transparent;\n",
              "      border-left-color: var(--fill-color);\n",
              "      border-top-color: var(--fill-color);\n",
              "    }\n",
              "    30% {\n",
              "      border-color: transparent;\n",
              "      border-left-color: var(--fill-color);\n",
              "      border-top-color: var(--fill-color);\n",
              "      border-right-color: var(--fill-color);\n",
              "    }\n",
              "    40% {\n",
              "      border-color: transparent;\n",
              "      border-right-color: var(--fill-color);\n",
              "      border-top-color: var(--fill-color);\n",
              "    }\n",
              "    60% {\n",
              "      border-color: transparent;\n",
              "      border-right-color: var(--fill-color);\n",
              "    }\n",
              "    80% {\n",
              "      border-color: transparent;\n",
              "      border-right-color: var(--fill-color);\n",
              "      border-bottom-color: var(--fill-color);\n",
              "    }\n",
              "    90% {\n",
              "      border-color: transparent;\n",
              "      border-bottom-color: var(--fill-color);\n",
              "    }\n",
              "  }\n",
              "</style>\n",
              "\n",
              "  <script>\n",
              "    async function quickchart(key) {\n",
              "      const quickchartButtonEl =\n",
              "        document.querySelector('#' + key + ' button');\n",
              "      quickchartButtonEl.disabled = true;  // To prevent multiple clicks.\n",
              "      quickchartButtonEl.classList.add('colab-df-spinner');\n",
              "      try {\n",
              "        const charts = await google.colab.kernel.invokeFunction(\n",
              "            'suggestCharts', [key], {});\n",
              "      } catch (error) {\n",
              "        console.error('Error during call to suggestCharts:', error);\n",
              "      }\n",
              "      quickchartButtonEl.classList.remove('colab-df-spinner');\n",
              "      quickchartButtonEl.classList.add('colab-df-quickchart-complete');\n",
              "    }\n",
              "    (() => {\n",
              "      let quickchartButtonEl =\n",
              "        document.querySelector('#df-2fcc41ba-3aa7-4c87-b5cc-4a77b6db4a51 button');\n",
              "      quickchartButtonEl.style.display =\n",
              "        google.colab.kernel.accessAllowed ? 'block' : 'none';\n",
              "    })();\n",
              "  </script>\n",
              "</div>\n",
              "\n",
              "    </div>\n",
              "  </div>\n"
            ],
            "application/vnd.google.colaboratory.intrinsic+json": {
              "type": "dataframe",
              "variable_name": "df_train",
              "summary": "{\n  \"name\": \"df_train\",\n  \"rows\": 74681,\n  \"fields\": [\n    {\n      \"column\": \"2401\",\n      \"properties\": {\n        \"dtype\": \"number\",\n        \"std\": 3740,\n        \"min\": 1,\n        \"max\": 13200,\n        \"num_unique_values\": 12447,\n        \"samples\": [\n          1616,\n          2660,\n          2335\n        ],\n        \"semantic_type\": \"\",\n        \"description\": \"\"\n      }\n    },\n    {\n      \"column\": \"Borderlands\",\n      \"properties\": {\n        \"dtype\": \"category\",\n        \"num_unique_values\": 32,\n        \"samples\": [\n          \"Cyberpunk2077\",\n          \"Microsoft\",\n          \"TomClancysRainbowSix\"\n        ],\n        \"semantic_type\": \"\",\n        \"description\": \"\"\n      }\n    },\n    {\n      \"column\": \"Positive\",\n      \"properties\": {\n        \"dtype\": \"category\",\n        \"num_unique_values\": 4,\n        \"samples\": [\n          \"Neutral\",\n          \"Irrelevant\",\n          \"Positive\"\n        ],\n        \"semantic_type\": \"\",\n        \"description\": \"\"\n      }\n    },\n    {\n      \"column\": \"im getting on borderlands and i will murder you all ,\",\n      \"properties\": {\n        \"dtype\": \"string\",\n        \"num_unique_values\": 69490,\n        \"samples\": [\n          \"so how does my stained glass open facebook account girl already have 200 likes!!!! and i sure am so!!??? oh thankful!??!?!\",\n          \"How not to get bored about every damn thing in life.\",\n          \"The Best Perfect Way to Protect All the Planet Samsung Galaxy Note10 + By buff. ly / The 2zkjIhU..\"\n        ],\n        \"semantic_type\": \"\",\n        \"description\": \"\"\n      }\n    }\n  ]\n}"
            }
          },
          "metadata": {},
          "execution_count": 173
        }
      ]
    },
    {
      "cell_type": "code",
      "source": [
        "df_test = pd.read_csv('twitter_validation.csv')\n",
        "df_test.head()"
      ],
      "metadata": {
        "colab": {
          "base_uri": "https://localhost:8080/",
          "height": 224
        },
        "id": "4LNvj_gMhKDl",
        "outputId": "4dc4b0c8-3463-47c2-e185-67d67aa106c5"
      },
      "execution_count": 174,
      "outputs": [
        {
          "output_type": "execute_result",
          "data": {
            "text/plain": [
              "   3364   Facebook Irrelevant  \\\n",
              "0   352     Amazon    Neutral   \n",
              "1  8312  Microsoft   Negative   \n",
              "2  4371      CS-GO   Negative   \n",
              "3  4433     Google    Neutral   \n",
              "4  6273       FIFA   Negative   \n",
              "\n",
              "  I mentioned on Facebook that I was struggling for motivation to go for a run the other day, which has been translated by Tom’s great auntie as ‘Hayley can’t get out of bed’ and told to his grandma, who now thinks I’m a lazy, terrible person 🤣  \n",
              "0  BBC News - Amazon boss Jeff Bezos rejects clai...                                                                                                                                                                                                  \n",
              "1  @Microsoft Why do I pay for WORD when it funct...                                                                                                                                                                                                  \n",
              "2  CSGO matchmaking is so full of closet hacking,...                                                                                                                                                                                                  \n",
              "3  Now the President is slapping Americans in the...                                                                                                                                                                                                  \n",
              "4  Hi @EAHelp I’ve had Madeleine McCann in my cel...                                                                                                                                                                                                  "
            ],
            "text/html": [
              "\n",
              "  <div id=\"df-a628578f-12be-4ab3-ba9a-e5eb9ce97fb4\" class=\"colab-df-container\">\n",
              "    <div>\n",
              "<style scoped>\n",
              "    .dataframe tbody tr th:only-of-type {\n",
              "        vertical-align: middle;\n",
              "    }\n",
              "\n",
              "    .dataframe tbody tr th {\n",
              "        vertical-align: top;\n",
              "    }\n",
              "\n",
              "    .dataframe thead th {\n",
              "        text-align: right;\n",
              "    }\n",
              "</style>\n",
              "<table border=\"1\" class=\"dataframe\">\n",
              "  <thead>\n",
              "    <tr style=\"text-align: right;\">\n",
              "      <th></th>\n",
              "      <th>3364</th>\n",
              "      <th>Facebook</th>\n",
              "      <th>Irrelevant</th>\n",
              "      <th>I mentioned on Facebook that I was struggling for motivation to go for a run the other day, which has been translated by Tom’s great auntie as ‘Hayley can’t get out of bed’ and told to his grandma, who now thinks I’m a lazy, terrible person 🤣</th>\n",
              "    </tr>\n",
              "  </thead>\n",
              "  <tbody>\n",
              "    <tr>\n",
              "      <th>0</th>\n",
              "      <td>352</td>\n",
              "      <td>Amazon</td>\n",
              "      <td>Neutral</td>\n",
              "      <td>BBC News - Amazon boss Jeff Bezos rejects clai...</td>\n",
              "    </tr>\n",
              "    <tr>\n",
              "      <th>1</th>\n",
              "      <td>8312</td>\n",
              "      <td>Microsoft</td>\n",
              "      <td>Negative</td>\n",
              "      <td>@Microsoft Why do I pay for WORD when it funct...</td>\n",
              "    </tr>\n",
              "    <tr>\n",
              "      <th>2</th>\n",
              "      <td>4371</td>\n",
              "      <td>CS-GO</td>\n",
              "      <td>Negative</td>\n",
              "      <td>CSGO matchmaking is so full of closet hacking,...</td>\n",
              "    </tr>\n",
              "    <tr>\n",
              "      <th>3</th>\n",
              "      <td>4433</td>\n",
              "      <td>Google</td>\n",
              "      <td>Neutral</td>\n",
              "      <td>Now the President is slapping Americans in the...</td>\n",
              "    </tr>\n",
              "    <tr>\n",
              "      <th>4</th>\n",
              "      <td>6273</td>\n",
              "      <td>FIFA</td>\n",
              "      <td>Negative</td>\n",
              "      <td>Hi @EAHelp I’ve had Madeleine McCann in my cel...</td>\n",
              "    </tr>\n",
              "  </tbody>\n",
              "</table>\n",
              "</div>\n",
              "    <div class=\"colab-df-buttons\">\n",
              "\n",
              "  <div class=\"colab-df-container\">\n",
              "    <button class=\"colab-df-convert\" onclick=\"convertToInteractive('df-a628578f-12be-4ab3-ba9a-e5eb9ce97fb4')\"\n",
              "            title=\"Convert this dataframe to an interactive table.\"\n",
              "            style=\"display:none;\">\n",
              "\n",
              "  <svg xmlns=\"http://www.w3.org/2000/svg\" height=\"24px\" viewBox=\"0 -960 960 960\">\n",
              "    <path d=\"M120-120v-720h720v720H120Zm60-500h600v-160H180v160Zm220 220h160v-160H400v160Zm0 220h160v-160H400v160ZM180-400h160v-160H180v160Zm440 0h160v-160H620v160ZM180-180h160v-160H180v160Zm440 0h160v-160H620v160Z\"/>\n",
              "  </svg>\n",
              "    </button>\n",
              "\n",
              "  <style>\n",
              "    .colab-df-container {\n",
              "      display:flex;\n",
              "      gap: 12px;\n",
              "    }\n",
              "\n",
              "    .colab-df-convert {\n",
              "      background-color: #E8F0FE;\n",
              "      border: none;\n",
              "      border-radius: 50%;\n",
              "      cursor: pointer;\n",
              "      display: none;\n",
              "      fill: #1967D2;\n",
              "      height: 32px;\n",
              "      padding: 0 0 0 0;\n",
              "      width: 32px;\n",
              "    }\n",
              "\n",
              "    .colab-df-convert:hover {\n",
              "      background-color: #E2EBFA;\n",
              "      box-shadow: 0px 1px 2px rgba(60, 64, 67, 0.3), 0px 1px 3px 1px rgba(60, 64, 67, 0.15);\n",
              "      fill: #174EA6;\n",
              "    }\n",
              "\n",
              "    .colab-df-buttons div {\n",
              "      margin-bottom: 4px;\n",
              "    }\n",
              "\n",
              "    [theme=dark] .colab-df-convert {\n",
              "      background-color: #3B4455;\n",
              "      fill: #D2E3FC;\n",
              "    }\n",
              "\n",
              "    [theme=dark] .colab-df-convert:hover {\n",
              "      background-color: #434B5C;\n",
              "      box-shadow: 0px 1px 3px 1px rgba(0, 0, 0, 0.15);\n",
              "      filter: drop-shadow(0px 1px 2px rgba(0, 0, 0, 0.3));\n",
              "      fill: #FFFFFF;\n",
              "    }\n",
              "  </style>\n",
              "\n",
              "    <script>\n",
              "      const buttonEl =\n",
              "        document.querySelector('#df-a628578f-12be-4ab3-ba9a-e5eb9ce97fb4 button.colab-df-convert');\n",
              "      buttonEl.style.display =\n",
              "        google.colab.kernel.accessAllowed ? 'block' : 'none';\n",
              "\n",
              "      async function convertToInteractive(key) {\n",
              "        const element = document.querySelector('#df-a628578f-12be-4ab3-ba9a-e5eb9ce97fb4');\n",
              "        const dataTable =\n",
              "          await google.colab.kernel.invokeFunction('convertToInteractive',\n",
              "                                                    [key], {});\n",
              "        if (!dataTable) return;\n",
              "\n",
              "        const docLinkHtml = 'Like what you see? Visit the ' +\n",
              "          '<a target=\"_blank\" href=https://colab.research.google.com/notebooks/data_table.ipynb>data table notebook</a>'\n",
              "          + ' to learn more about interactive tables.';\n",
              "        element.innerHTML = '';\n",
              "        dataTable['output_type'] = 'display_data';\n",
              "        await google.colab.output.renderOutput(dataTable, element);\n",
              "        const docLink = document.createElement('div');\n",
              "        docLink.innerHTML = docLinkHtml;\n",
              "        element.appendChild(docLink);\n",
              "      }\n",
              "    </script>\n",
              "  </div>\n",
              "\n",
              "\n",
              "<div id=\"df-0361dd00-11d8-457d-ad76-e9d519ab75f4\">\n",
              "  <button class=\"colab-df-quickchart\" onclick=\"quickchart('df-0361dd00-11d8-457d-ad76-e9d519ab75f4')\"\n",
              "            title=\"Suggest charts\"\n",
              "            style=\"display:none;\">\n",
              "\n",
              "<svg xmlns=\"http://www.w3.org/2000/svg\" height=\"24px\"viewBox=\"0 0 24 24\"\n",
              "     width=\"24px\">\n",
              "    <g>\n",
              "        <path d=\"M19 3H5c-1.1 0-2 .9-2 2v14c0 1.1.9 2 2 2h14c1.1 0 2-.9 2-2V5c0-1.1-.9-2-2-2zM9 17H7v-7h2v7zm4 0h-2V7h2v10zm4 0h-2v-4h2v4z\"/>\n",
              "    </g>\n",
              "</svg>\n",
              "  </button>\n",
              "\n",
              "<style>\n",
              "  .colab-df-quickchart {\n",
              "      --bg-color: #E8F0FE;\n",
              "      --fill-color: #1967D2;\n",
              "      --hover-bg-color: #E2EBFA;\n",
              "      --hover-fill-color: #174EA6;\n",
              "      --disabled-fill-color: #AAA;\n",
              "      --disabled-bg-color: #DDD;\n",
              "  }\n",
              "\n",
              "  [theme=dark] .colab-df-quickchart {\n",
              "      --bg-color: #3B4455;\n",
              "      --fill-color: #D2E3FC;\n",
              "      --hover-bg-color: #434B5C;\n",
              "      --hover-fill-color: #FFFFFF;\n",
              "      --disabled-bg-color: #3B4455;\n",
              "      --disabled-fill-color: #666;\n",
              "  }\n",
              "\n",
              "  .colab-df-quickchart {\n",
              "    background-color: var(--bg-color);\n",
              "    border: none;\n",
              "    border-radius: 50%;\n",
              "    cursor: pointer;\n",
              "    display: none;\n",
              "    fill: var(--fill-color);\n",
              "    height: 32px;\n",
              "    padding: 0;\n",
              "    width: 32px;\n",
              "  }\n",
              "\n",
              "  .colab-df-quickchart:hover {\n",
              "    background-color: var(--hover-bg-color);\n",
              "    box-shadow: 0 1px 2px rgba(60, 64, 67, 0.3), 0 1px 3px 1px rgba(60, 64, 67, 0.15);\n",
              "    fill: var(--button-hover-fill-color);\n",
              "  }\n",
              "\n",
              "  .colab-df-quickchart-complete:disabled,\n",
              "  .colab-df-quickchart-complete:disabled:hover {\n",
              "    background-color: var(--disabled-bg-color);\n",
              "    fill: var(--disabled-fill-color);\n",
              "    box-shadow: none;\n",
              "  }\n",
              "\n",
              "  .colab-df-spinner {\n",
              "    border: 2px solid var(--fill-color);\n",
              "    border-color: transparent;\n",
              "    border-bottom-color: var(--fill-color);\n",
              "    animation:\n",
              "      spin 1s steps(1) infinite;\n",
              "  }\n",
              "\n",
              "  @keyframes spin {\n",
              "    0% {\n",
              "      border-color: transparent;\n",
              "      border-bottom-color: var(--fill-color);\n",
              "      border-left-color: var(--fill-color);\n",
              "    }\n",
              "    20% {\n",
              "      border-color: transparent;\n",
              "      border-left-color: var(--fill-color);\n",
              "      border-top-color: var(--fill-color);\n",
              "    }\n",
              "    30% {\n",
              "      border-color: transparent;\n",
              "      border-left-color: var(--fill-color);\n",
              "      border-top-color: var(--fill-color);\n",
              "      border-right-color: var(--fill-color);\n",
              "    }\n",
              "    40% {\n",
              "      border-color: transparent;\n",
              "      border-right-color: var(--fill-color);\n",
              "      border-top-color: var(--fill-color);\n",
              "    }\n",
              "    60% {\n",
              "      border-color: transparent;\n",
              "      border-right-color: var(--fill-color);\n",
              "    }\n",
              "    80% {\n",
              "      border-color: transparent;\n",
              "      border-right-color: var(--fill-color);\n",
              "      border-bottom-color: var(--fill-color);\n",
              "    }\n",
              "    90% {\n",
              "      border-color: transparent;\n",
              "      border-bottom-color: var(--fill-color);\n",
              "    }\n",
              "  }\n",
              "</style>\n",
              "\n",
              "  <script>\n",
              "    async function quickchart(key) {\n",
              "      const quickchartButtonEl =\n",
              "        document.querySelector('#' + key + ' button');\n",
              "      quickchartButtonEl.disabled = true;  // To prevent multiple clicks.\n",
              "      quickchartButtonEl.classList.add('colab-df-spinner');\n",
              "      try {\n",
              "        const charts = await google.colab.kernel.invokeFunction(\n",
              "            'suggestCharts', [key], {});\n",
              "      } catch (error) {\n",
              "        console.error('Error during call to suggestCharts:', error);\n",
              "      }\n",
              "      quickchartButtonEl.classList.remove('colab-df-spinner');\n",
              "      quickchartButtonEl.classList.add('colab-df-quickchart-complete');\n",
              "    }\n",
              "    (() => {\n",
              "      let quickchartButtonEl =\n",
              "        document.querySelector('#df-0361dd00-11d8-457d-ad76-e9d519ab75f4 button');\n",
              "      quickchartButtonEl.style.display =\n",
              "        google.colab.kernel.accessAllowed ? 'block' : 'none';\n",
              "    })();\n",
              "  </script>\n",
              "</div>\n",
              "\n",
              "    </div>\n",
              "  </div>\n"
            ],
            "application/vnd.google.colaboratory.intrinsic+json": {
              "type": "dataframe",
              "variable_name": "df_test",
              "summary": "{\n  \"name\": \"df_test\",\n  \"rows\": 999,\n  \"fields\": [\n    {\n      \"column\": \"3364\",\n      \"properties\": {\n        \"dtype\": \"number\",\n        \"std\": 3728,\n        \"min\": 6,\n        \"max\": 13197,\n        \"num_unique_values\": 999,\n        \"samples\": [\n          10513,\n          9792,\n          12509\n        ],\n        \"semantic_type\": \"\",\n        \"description\": \"\"\n      }\n    },\n    {\n      \"column\": \"Facebook\",\n      \"properties\": {\n        \"dtype\": \"category\",\n        \"num_unique_values\": 32,\n        \"samples\": [\n          \"WorldOfCraft\",\n          \"Hearthstone\",\n          \"CallOfDutyBlackopsColdWar\"\n        ],\n        \"semantic_type\": \"\",\n        \"description\": \"\"\n      }\n    },\n    {\n      \"column\": \"Irrelevant\",\n      \"properties\": {\n        \"dtype\": \"category\",\n        \"num_unique_values\": 4,\n        \"samples\": [\n          \"Negative\",\n          \"Irrelevant\",\n          \"Neutral\"\n        ],\n        \"semantic_type\": \"\",\n        \"description\": \"\"\n      }\n    },\n    {\n      \"column\": \"I mentioned on Facebook that I was struggling for motivation to go for a run the other day, which has been translated by Tom\\u2019s great auntie as \\u2018Hayley can\\u2019t get out of bed\\u2019 and told to his grandma, who now thinks I\\u2019m a lazy, terrible person \\ud83e\\udd23\",\n      \"properties\": {\n        \"dtype\": \"string\",\n        \"num_unique_values\": 998,\n        \"samples\": [\n          \"Red Dead Redemption 2 - Xbox - jogando no Game Pass \\n\\nm.mixer.com/valtinhoroberto\\n\\n(#game)\",\n          \"@Xbox @majornelson I\\u2019d love to bring home a new Xbox Series X, but they are all sold out. So the emails are VERY misleading. Just sayin.\",\n          \"Team JerseyBoys is now also represented on Twitch.\\n\\nWelcome @chucky_CSGO  \\n\\nOur chef of confidence, will offer you content from various games like World Of Warcraft, CS:GO or Valorant on Twitch. \\n\\nClick here for the Twitch Channel: tinyurl.com/y5gm9h74\\n\\n#jerseyboys #twitch https://t.co/OwimJcs4uJ\"\n        ],\n        \"semantic_type\": \"\",\n        \"description\": \"\"\n      }\n    }\n  ]\n}"
            }
          },
          "metadata": {},
          "execution_count": 174
        }
      ]
    },
    {
      "cell_type": "markdown",
      "source": [
        "# Preprocessing Data"
      ],
      "metadata": {
        "id": "UERvCpLMFZv4"
      }
    },
    {
      "cell_type": "code",
      "source": [
        "df_train.columns"
      ],
      "metadata": {
        "colab": {
          "base_uri": "https://localhost:8080/"
        },
        "id": "0vbQIV86FdLi",
        "outputId": "f682713c-3488-41c4-8e00-77fde7ee37fa"
      },
      "execution_count": 175,
      "outputs": [
        {
          "output_type": "execute_result",
          "data": {
            "text/plain": [
              "Index(['2401', 'Borderlands', 'Positive',\n",
              "       'im getting on borderlands and i will murder you all ,'],\n",
              "      dtype='object')"
            ]
          },
          "metadata": {},
          "execution_count": 175
        }
      ]
    },
    {
      "cell_type": "code",
      "source": [
        "df_test.columns"
      ],
      "metadata": {
        "colab": {
          "base_uri": "https://localhost:8080/"
        },
        "id": "IqLxHcCBFyUp",
        "outputId": "211e4c12-5fac-4da2-ea10-ef913d308fcb"
      },
      "execution_count": 176,
      "outputs": [
        {
          "output_type": "execute_result",
          "data": {
            "text/plain": [
              "Index(['3364', 'Facebook', 'Irrelevant',\n",
              "       'I mentioned on Facebook that I was struggling for motivation to go for a run the other day, which has been translated by Tom’s great auntie as ‘Hayley can’t get out of bed’ and told to his grandma, who now thinks I’m a lazy, terrible person 🤣'],\n",
              "      dtype='object')"
            ]
          },
          "metadata": {},
          "execution_count": 176
        }
      ]
    },
    {
      "cell_type": "code",
      "source": [
        "df_train.columns = ['Tweet ID', 'Entity', 'Sentiment', 'Tweet Content']\n",
        "df_test.columns = ['Tweet ID', 'Entity', 'Sentiment', 'Tweet Content']\n",
        "\n",
        "# Drop unnecessary columns\n",
        "df_train.drop(columns=['Tweet ID', 'Entity'], inplace=True)\n",
        "df_test.drop(columns=['Tweet ID', 'Entity'], inplace=True)"
      ],
      "metadata": {
        "id": "oq6AmOBxjJD5"
      },
      "execution_count": 177,
      "outputs": []
    },
    {
      "cell_type": "code",
      "source": [
        "df_train.isna().sum()"
      ],
      "metadata": {
        "colab": {
          "base_uri": "https://localhost:8080/"
        },
        "id": "BQzAjxfAiHdN",
        "outputId": "e8c3412c-fe1d-4d36-e50a-9d7ea6b1322c"
      },
      "execution_count": 178,
      "outputs": [
        {
          "output_type": "execute_result",
          "data": {
            "text/plain": [
              "Sentiment          0\n",
              "Tweet Content    686\n",
              "dtype: int64"
            ]
          },
          "metadata": {},
          "execution_count": 178
        }
      ]
    },
    {
      "cell_type": "code",
      "source": [
        "df_test.isna().sum()"
      ],
      "metadata": {
        "colab": {
          "base_uri": "https://localhost:8080/"
        },
        "id": "DXLaJFwph-CO",
        "outputId": "2524094f-5ae2-40c2-a470-2087d6c3fab0"
      },
      "execution_count": 179,
      "outputs": [
        {
          "output_type": "execute_result",
          "data": {
            "text/plain": [
              "Sentiment        0\n",
              "Tweet Content    0\n",
              "dtype: int64"
            ]
          },
          "metadata": {},
          "execution_count": 179
        }
      ]
    },
    {
      "cell_type": "code",
      "source": [
        "df_train.dropna(inplace=True)\n",
        "df_test.dropna(inplace=True)"
      ],
      "metadata": {
        "id": "aC4GskmDhWks"
      },
      "execution_count": 180,
      "outputs": []
    },
    {
      "cell_type": "code",
      "source": [
        "df_train.duplicated().sum()\n",
        "df_test.duplicated().sum()"
      ],
      "metadata": {
        "colab": {
          "base_uri": "https://localhost:8080/"
        },
        "id": "xppKf1KWhjnb",
        "outputId": "869601d9-d43c-4b6c-e5cf-05ca191fd9f1"
      },
      "execution_count": 181,
      "outputs": [
        {
          "output_type": "execute_result",
          "data": {
            "text/plain": [
              "1"
            ]
          },
          "metadata": {},
          "execution_count": 181
        }
      ]
    },
    {
      "cell_type": "code",
      "source": [
        "df_train.drop_duplicates(inplace=True)\n",
        "df_test.drop_duplicates(inplace=True)"
      ],
      "metadata": {
        "id": "bZUK_E0vjTJx"
      },
      "execution_count": 182,
      "outputs": []
    },
    {
      "cell_type": "code",
      "source": [
        "twitter_sentiments = pd.concat([df_train,df_test],ignore_index=True)\n",
        "twitter_sentiments.shape\n",
        "twitter_sentiments.duplicated().sum()"
      ],
      "metadata": {
        "colab": {
          "base_uri": "https://localhost:8080/"
        },
        "id": "BlPmqB_ZiU7f",
        "outputId": "b75a8669-a402-4220-a3eb-354bede7841c"
      },
      "execution_count": 183,
      "outputs": [
        {
          "output_type": "execute_result",
          "data": {
            "text/plain": [
              "515"
            ]
          },
          "metadata": {},
          "execution_count": 183
        }
      ]
    },
    {
      "cell_type": "code",
      "source": [
        "twitter_sentiments['Tweet Content Length'] = twitter_sentiments['Tweet Content'].apply(len)\n",
        "twitter_sentiments.head()\n",
        "twitter_sentiments.iloc[:10]"
      ],
      "metadata": {
        "colab": {
          "base_uri": "https://localhost:8080/",
          "height": 363
        },
        "id": "2KEHXalbinYs",
        "outputId": "9eb352ed-f02d-4dd4-bb23-02a690df2294"
      },
      "execution_count": 184,
      "outputs": [
        {
          "output_type": "execute_result",
          "data": {
            "text/plain": [
              "  Sentiment                                      Tweet Content  \\\n",
              "0  Positive  I am coming to the borders and I will kill you...   \n",
              "1  Positive  im getting on borderlands and i will kill you ...   \n",
              "2  Positive  im coming on borderlands and i will murder you...   \n",
              "3  Positive  im getting on borderlands 2 and i will murder ...   \n",
              "4  Positive  im getting into borderlands and i can murder y...   \n",
              "5  Positive  So I spent a few hours making something for fu...   \n",
              "6  Positive  So I spent a couple of hours doing something f...   \n",
              "7  Positive  So I spent a few hours doing something for fun...   \n",
              "8  Positive  So I spent a few hours making something for fu...   \n",
              "9  Positive  2010 So I spent a few hours making something f...   \n",
              "\n",
              "   Tweet Content Length  \n",
              "0                    51  \n",
              "1                    50  \n",
              "2                    51  \n",
              "3                    57  \n",
              "4                    53  \n",
              "5                   286  \n",
              "6                   293  \n",
              "7                   139  \n",
              "8                   283  \n",
              "9                   288  "
            ],
            "text/html": [
              "\n",
              "  <div id=\"df-9210bcc4-a046-4450-8887-fdcfbb212182\" class=\"colab-df-container\">\n",
              "    <div>\n",
              "<style scoped>\n",
              "    .dataframe tbody tr th:only-of-type {\n",
              "        vertical-align: middle;\n",
              "    }\n",
              "\n",
              "    .dataframe tbody tr th {\n",
              "        vertical-align: top;\n",
              "    }\n",
              "\n",
              "    .dataframe thead th {\n",
              "        text-align: right;\n",
              "    }\n",
              "</style>\n",
              "<table border=\"1\" class=\"dataframe\">\n",
              "  <thead>\n",
              "    <tr style=\"text-align: right;\">\n",
              "      <th></th>\n",
              "      <th>Sentiment</th>\n",
              "      <th>Tweet Content</th>\n",
              "      <th>Tweet Content Length</th>\n",
              "    </tr>\n",
              "  </thead>\n",
              "  <tbody>\n",
              "    <tr>\n",
              "      <th>0</th>\n",
              "      <td>Positive</td>\n",
              "      <td>I am coming to the borders and I will kill you...</td>\n",
              "      <td>51</td>\n",
              "    </tr>\n",
              "    <tr>\n",
              "      <th>1</th>\n",
              "      <td>Positive</td>\n",
              "      <td>im getting on borderlands and i will kill you ...</td>\n",
              "      <td>50</td>\n",
              "    </tr>\n",
              "    <tr>\n",
              "      <th>2</th>\n",
              "      <td>Positive</td>\n",
              "      <td>im coming on borderlands and i will murder you...</td>\n",
              "      <td>51</td>\n",
              "    </tr>\n",
              "    <tr>\n",
              "      <th>3</th>\n",
              "      <td>Positive</td>\n",
              "      <td>im getting on borderlands 2 and i will murder ...</td>\n",
              "      <td>57</td>\n",
              "    </tr>\n",
              "    <tr>\n",
              "      <th>4</th>\n",
              "      <td>Positive</td>\n",
              "      <td>im getting into borderlands and i can murder y...</td>\n",
              "      <td>53</td>\n",
              "    </tr>\n",
              "    <tr>\n",
              "      <th>5</th>\n",
              "      <td>Positive</td>\n",
              "      <td>So I spent a few hours making something for fu...</td>\n",
              "      <td>286</td>\n",
              "    </tr>\n",
              "    <tr>\n",
              "      <th>6</th>\n",
              "      <td>Positive</td>\n",
              "      <td>So I spent a couple of hours doing something f...</td>\n",
              "      <td>293</td>\n",
              "    </tr>\n",
              "    <tr>\n",
              "      <th>7</th>\n",
              "      <td>Positive</td>\n",
              "      <td>So I spent a few hours doing something for fun...</td>\n",
              "      <td>139</td>\n",
              "    </tr>\n",
              "    <tr>\n",
              "      <th>8</th>\n",
              "      <td>Positive</td>\n",
              "      <td>So I spent a few hours making something for fu...</td>\n",
              "      <td>283</td>\n",
              "    </tr>\n",
              "    <tr>\n",
              "      <th>9</th>\n",
              "      <td>Positive</td>\n",
              "      <td>2010 So I spent a few hours making something f...</td>\n",
              "      <td>288</td>\n",
              "    </tr>\n",
              "  </tbody>\n",
              "</table>\n",
              "</div>\n",
              "    <div class=\"colab-df-buttons\">\n",
              "\n",
              "  <div class=\"colab-df-container\">\n",
              "    <button class=\"colab-df-convert\" onclick=\"convertToInteractive('df-9210bcc4-a046-4450-8887-fdcfbb212182')\"\n",
              "            title=\"Convert this dataframe to an interactive table.\"\n",
              "            style=\"display:none;\">\n",
              "\n",
              "  <svg xmlns=\"http://www.w3.org/2000/svg\" height=\"24px\" viewBox=\"0 -960 960 960\">\n",
              "    <path d=\"M120-120v-720h720v720H120Zm60-500h600v-160H180v160Zm220 220h160v-160H400v160Zm0 220h160v-160H400v160ZM180-400h160v-160H180v160Zm440 0h160v-160H620v160ZM180-180h160v-160H180v160Zm440 0h160v-160H620v160Z\"/>\n",
              "  </svg>\n",
              "    </button>\n",
              "\n",
              "  <style>\n",
              "    .colab-df-container {\n",
              "      display:flex;\n",
              "      gap: 12px;\n",
              "    }\n",
              "\n",
              "    .colab-df-convert {\n",
              "      background-color: #E8F0FE;\n",
              "      border: none;\n",
              "      border-radius: 50%;\n",
              "      cursor: pointer;\n",
              "      display: none;\n",
              "      fill: #1967D2;\n",
              "      height: 32px;\n",
              "      padding: 0 0 0 0;\n",
              "      width: 32px;\n",
              "    }\n",
              "\n",
              "    .colab-df-convert:hover {\n",
              "      background-color: #E2EBFA;\n",
              "      box-shadow: 0px 1px 2px rgba(60, 64, 67, 0.3), 0px 1px 3px 1px rgba(60, 64, 67, 0.15);\n",
              "      fill: #174EA6;\n",
              "    }\n",
              "\n",
              "    .colab-df-buttons div {\n",
              "      margin-bottom: 4px;\n",
              "    }\n",
              "\n",
              "    [theme=dark] .colab-df-convert {\n",
              "      background-color: #3B4455;\n",
              "      fill: #D2E3FC;\n",
              "    }\n",
              "\n",
              "    [theme=dark] .colab-df-convert:hover {\n",
              "      background-color: #434B5C;\n",
              "      box-shadow: 0px 1px 3px 1px rgba(0, 0, 0, 0.15);\n",
              "      filter: drop-shadow(0px 1px 2px rgba(0, 0, 0, 0.3));\n",
              "      fill: #FFFFFF;\n",
              "    }\n",
              "  </style>\n",
              "\n",
              "    <script>\n",
              "      const buttonEl =\n",
              "        document.querySelector('#df-9210bcc4-a046-4450-8887-fdcfbb212182 button.colab-df-convert');\n",
              "      buttonEl.style.display =\n",
              "        google.colab.kernel.accessAllowed ? 'block' : 'none';\n",
              "\n",
              "      async function convertToInteractive(key) {\n",
              "        const element = document.querySelector('#df-9210bcc4-a046-4450-8887-fdcfbb212182');\n",
              "        const dataTable =\n",
              "          await google.colab.kernel.invokeFunction('convertToInteractive',\n",
              "                                                    [key], {});\n",
              "        if (!dataTable) return;\n",
              "\n",
              "        const docLinkHtml = 'Like what you see? Visit the ' +\n",
              "          '<a target=\"_blank\" href=https://colab.research.google.com/notebooks/data_table.ipynb>data table notebook</a>'\n",
              "          + ' to learn more about interactive tables.';\n",
              "        element.innerHTML = '';\n",
              "        dataTable['output_type'] = 'display_data';\n",
              "        await google.colab.output.renderOutput(dataTable, element);\n",
              "        const docLink = document.createElement('div');\n",
              "        docLink.innerHTML = docLinkHtml;\n",
              "        element.appendChild(docLink);\n",
              "      }\n",
              "    </script>\n",
              "  </div>\n",
              "\n",
              "\n",
              "<div id=\"df-5b2fa987-3167-40af-a2ab-64be2b5bd6a9\">\n",
              "  <button class=\"colab-df-quickchart\" onclick=\"quickchart('df-5b2fa987-3167-40af-a2ab-64be2b5bd6a9')\"\n",
              "            title=\"Suggest charts\"\n",
              "            style=\"display:none;\">\n",
              "\n",
              "<svg xmlns=\"http://www.w3.org/2000/svg\" height=\"24px\"viewBox=\"0 0 24 24\"\n",
              "     width=\"24px\">\n",
              "    <g>\n",
              "        <path d=\"M19 3H5c-1.1 0-2 .9-2 2v14c0 1.1.9 2 2 2h14c1.1 0 2-.9 2-2V5c0-1.1-.9-2-2-2zM9 17H7v-7h2v7zm4 0h-2V7h2v10zm4 0h-2v-4h2v4z\"/>\n",
              "    </g>\n",
              "</svg>\n",
              "  </button>\n",
              "\n",
              "<style>\n",
              "  .colab-df-quickchart {\n",
              "      --bg-color: #E8F0FE;\n",
              "      --fill-color: #1967D2;\n",
              "      --hover-bg-color: #E2EBFA;\n",
              "      --hover-fill-color: #174EA6;\n",
              "      --disabled-fill-color: #AAA;\n",
              "      --disabled-bg-color: #DDD;\n",
              "  }\n",
              "\n",
              "  [theme=dark] .colab-df-quickchart {\n",
              "      --bg-color: #3B4455;\n",
              "      --fill-color: #D2E3FC;\n",
              "      --hover-bg-color: #434B5C;\n",
              "      --hover-fill-color: #FFFFFF;\n",
              "      --disabled-bg-color: #3B4455;\n",
              "      --disabled-fill-color: #666;\n",
              "  }\n",
              "\n",
              "  .colab-df-quickchart {\n",
              "    background-color: var(--bg-color);\n",
              "    border: none;\n",
              "    border-radius: 50%;\n",
              "    cursor: pointer;\n",
              "    display: none;\n",
              "    fill: var(--fill-color);\n",
              "    height: 32px;\n",
              "    padding: 0;\n",
              "    width: 32px;\n",
              "  }\n",
              "\n",
              "  .colab-df-quickchart:hover {\n",
              "    background-color: var(--hover-bg-color);\n",
              "    box-shadow: 0 1px 2px rgba(60, 64, 67, 0.3), 0 1px 3px 1px rgba(60, 64, 67, 0.15);\n",
              "    fill: var(--button-hover-fill-color);\n",
              "  }\n",
              "\n",
              "  .colab-df-quickchart-complete:disabled,\n",
              "  .colab-df-quickchart-complete:disabled:hover {\n",
              "    background-color: var(--disabled-bg-color);\n",
              "    fill: var(--disabled-fill-color);\n",
              "    box-shadow: none;\n",
              "  }\n",
              "\n",
              "  .colab-df-spinner {\n",
              "    border: 2px solid var(--fill-color);\n",
              "    border-color: transparent;\n",
              "    border-bottom-color: var(--fill-color);\n",
              "    animation:\n",
              "      spin 1s steps(1) infinite;\n",
              "  }\n",
              "\n",
              "  @keyframes spin {\n",
              "    0% {\n",
              "      border-color: transparent;\n",
              "      border-bottom-color: var(--fill-color);\n",
              "      border-left-color: var(--fill-color);\n",
              "    }\n",
              "    20% {\n",
              "      border-color: transparent;\n",
              "      border-left-color: var(--fill-color);\n",
              "      border-top-color: var(--fill-color);\n",
              "    }\n",
              "    30% {\n",
              "      border-color: transparent;\n",
              "      border-left-color: var(--fill-color);\n",
              "      border-top-color: var(--fill-color);\n",
              "      border-right-color: var(--fill-color);\n",
              "    }\n",
              "    40% {\n",
              "      border-color: transparent;\n",
              "      border-right-color: var(--fill-color);\n",
              "      border-top-color: var(--fill-color);\n",
              "    }\n",
              "    60% {\n",
              "      border-color: transparent;\n",
              "      border-right-color: var(--fill-color);\n",
              "    }\n",
              "    80% {\n",
              "      border-color: transparent;\n",
              "      border-right-color: var(--fill-color);\n",
              "      border-bottom-color: var(--fill-color);\n",
              "    }\n",
              "    90% {\n",
              "      border-color: transparent;\n",
              "      border-bottom-color: var(--fill-color);\n",
              "    }\n",
              "  }\n",
              "</style>\n",
              "\n",
              "  <script>\n",
              "    async function quickchart(key) {\n",
              "      const quickchartButtonEl =\n",
              "        document.querySelector('#' + key + ' button');\n",
              "      quickchartButtonEl.disabled = true;  // To prevent multiple clicks.\n",
              "      quickchartButtonEl.classList.add('colab-df-spinner');\n",
              "      try {\n",
              "        const charts = await google.colab.kernel.invokeFunction(\n",
              "            'suggestCharts', [key], {});\n",
              "      } catch (error) {\n",
              "        console.error('Error during call to suggestCharts:', error);\n",
              "      }\n",
              "      quickchartButtonEl.classList.remove('colab-df-spinner');\n",
              "      quickchartButtonEl.classList.add('colab-df-quickchart-complete');\n",
              "    }\n",
              "    (() => {\n",
              "      let quickchartButtonEl =\n",
              "        document.querySelector('#df-5b2fa987-3167-40af-a2ab-64be2b5bd6a9 button');\n",
              "      quickchartButtonEl.style.display =\n",
              "        google.colab.kernel.accessAllowed ? 'block' : 'none';\n",
              "    })();\n",
              "  </script>\n",
              "</div>\n",
              "\n",
              "    </div>\n",
              "  </div>\n"
            ],
            "application/vnd.google.colaboratory.intrinsic+json": {
              "type": "dataframe",
              "summary": "{\n  \"name\": \"twitter_sentiments\",\n  \"rows\": 10,\n  \"fields\": [\n    {\n      \"column\": \"Sentiment\",\n      \"properties\": {\n        \"dtype\": \"category\",\n        \"num_unique_values\": 1,\n        \"samples\": [\n          \"Positive\"\n        ],\n        \"semantic_type\": \"\",\n        \"description\": \"\"\n      }\n    },\n    {\n      \"column\": \"Tweet Content\",\n      \"properties\": {\n        \"dtype\": \"string\",\n        \"num_unique_values\": 10,\n        \"samples\": [\n          \"So I spent a few hours making something for fun. . . If you don't know I am a HUGE RhandlerR fan and Maya is one of my favorite characters. So I decided to make myself a wallpaper for my PC. . Here is the original image versus the creation I made :) Enjoy! pic.twitter.com/mLsI5wf9Jg\"\n        ],\n        \"semantic_type\": \"\",\n        \"description\": \"\"\n      }\n    },\n    {\n      \"column\": \"Tweet Content Length\",\n      \"properties\": {\n        \"dtype\": \"number\",\n        \"std\": 116,\n        \"min\": 50,\n        \"max\": 293,\n        \"num_unique_values\": 9,\n        \"samples\": [\n          283\n        ],\n        \"semantic_type\": \"\",\n        \"description\": \"\"\n      }\n    }\n  ]\n}"
            }
          },
          "metadata": {},
          "execution_count": 184
        }
      ]
    },
    {
      "cell_type": "code",
      "source": [
        "print(f\"Sentiment value count: \\n {twitter_sentiments['Sentiment'].value_counts()}\")"
      ],
      "metadata": {
        "colab": {
          "base_uri": "https://localhost:8080/"
        },
        "id": "76x1UdoajfkE",
        "outputId": "249f4b72-0a4c-423a-9cb9-559642d4a4c5"
      },
      "execution_count": 185,
      "outputs": [
        {
          "output_type": "stream",
          "name": "stdout",
          "text": [
            "Sentiment value count: \n",
            " Sentiment\n",
            "Negative      21503\n",
            "Positive      19413\n",
            "Neutral       17395\n",
            "Irrelevant    12455\n",
            "Name: count, dtype: int64\n"
          ]
        }
      ]
    },
    {
      "cell_type": "code",
      "source": [
        "twitter_sentiments['Sentiment'] = twitter_sentiments['Sentiment'].apply(lambda x: 'Neutral' if x.lower() in ['neutral', 'irrelevant'] else x)\n",
        "print(f\"Sentiment value count: \\n {twitter_sentiments['Sentiment'].value_counts()}\")"
      ],
      "metadata": {
        "colab": {
          "base_uri": "https://localhost:8080/"
        },
        "id": "189ErGk2jr25",
        "outputId": "4fadaa2a-24cf-4c72-f340-b4368403b440"
      },
      "execution_count": 186,
      "outputs": [
        {
          "output_type": "stream",
          "name": "stdout",
          "text": [
            "Sentiment value count: \n",
            " Sentiment\n",
            "Neutral     29850\n",
            "Negative    21503\n",
            "Positive    19413\n",
            "Name: count, dtype: int64\n"
          ]
        }
      ]
    },
    {
      "cell_type": "code",
      "source": [
        "import matplotlib.pyplot as plt\n",
        "import pandas as pd\n",
        "\n",
        "# Assuming 'twitter_sentiments' is your DataFrame\n",
        "sentiments_count = twitter_sentiments['Sentiment'].value_counts()\n",
        "\n",
        "plt.figure(figsize=(8, 6))\n",
        "sentiments_count.plot(kind='bar', color=['blue', 'green', 'red'])\n",
        "plt.title('Distribution of Sentiments')\n",
        "plt.xlabel('Sentiment')\n",
        "plt.ylabel('Count')\n",
        "plt.xticks(rotation=0)  # Rotate x-axis labels if needed\n",
        "plt.show()"
      ],
      "metadata": {
        "colab": {
          "base_uri": "https://localhost:8080/",
          "height": 564
        },
        "id": "duUI9m6ojnAn",
        "outputId": "86701916-fa92-4d78-b6a2-bff618cae19a"
      },
      "execution_count": 187,
      "outputs": [
        {
          "output_type": "display_data",
          "data": {
            "text/plain": [
              "<Figure size 800x600 with 1 Axes>"
            ],
            "image/png": "[encoded data removed]"
          },
          "metadata": {}
        }
      ]
    },
    {
      "cell_type": "code",
      "source": [
        "nltk.download('punkt')\n",
        "nltk.download('stopwords')\n",
        "nltk.download('wordnet')\n",
        "\n",
        "#Proses membersihkan text dengan menghilangkan emoji, special charac dsbnya\n",
        "def clean_text(text: str) -> str:\n",
        "    text = text.lower()\n",
        "    text = remove_special_characters_and_emojis(text)\n",
        "    text = remove_urls(text)\n",
        "    text = remove_mentions_and_hashtags(text)\n",
        "    text = remove_html_tags(text)\n",
        "    text = expand_contractions(text)\n",
        "    text = remove_punctuation(text)\n",
        "    text = remove_extra_whitespaces(text)\n",
        "    text = tokenize_and_lemmatize(text)\n",
        "    return text\n",
        "def remove_urls(text: str) -> str:\n",
        "    return re.sub(r'https*\\S+', ' ', text)\n",
        "\n",
        "def remove_mentions_and_hashtags(text: str) -> str:\n",
        "    return re.sub(r'[@#]\\S+', ' ', text)\n",
        "\n",
        "def remove_html_tags(text: str) -> str:\n",
        "    return re.sub('<.*?>', '', text)\n",
        "\n",
        "def expand_contractions(text: str) -> str:\n",
        "    contractions = {\"don't\": 'do not', \"can't\": 'cannot'}\n",
        "    for contraction, expanded in contractions.items():\n",
        "        text = text.replace(contraction, expanded)\n",
        "    return text\n",
        "\n",
        "def remove_punctuation(text: str) -> str:\n",
        "    return re.sub('[%s]' % re.escape(string.punctuation), '', text)\n",
        "def remove_extra_whitespaces(text: str) -> str:\n",
        "    return re.sub('\\s{2,}', ' ', text)\n",
        "\n",
        "def remove_special_characters_and_emojis(text: str) -> str:\n",
        "    special_char_pattern = r'[^a-zA-Z0-9\\s]|[\\U0001F600-\\U0001F64F\\U0001F300-\\U0001F5FF\\U0001F680-\\U0001F6FF\\U0001F700-\\U0001F77F\\U0001F780-\\U0001F7FF\\U0001F800-\\U0001F8FF\\U0001F900-\\U0001F9FF\\U0001FA00-\\U0001FA6F\\U0001FA70-\\U0001FAFF\\U00002702-\\U000027B0\\U000024C2-\\U0001F251]'\n",
        "\n",
        "    return re.sub(special_char_pattern, '', text)\n",
        "\n",
        "def tokenize_and_lemmatize(text: str) -> str:\n",
        "    lemmatizer = WordNetLemmatizer()\n",
        "    words = word_tokenize(text)\n",
        "    stopwords_set = set(stopwords.words('english'))\n",
        "    lemmatized_words = [lemmatizer.lemmatize(word) for word in words if word not in stopwords_set]\n",
        "    return ' '.join(lemmatized_words)"
      ],
      "metadata": {
        "colab": {
          "base_uri": "https://localhost:8080/"
        },
        "id": "pLgyauDKmVt0",
        "outputId": "b8e90b09-51fd-4ae5-afcf-407d16234997"
      },
      "execution_count": 188,
      "outputs": [
        {
          "output_type": "stream",
          "name": "stderr",
          "text": [
            "[nltk_data] Downloading package punkt to /root/nltk_data...\n",
            "[nltk_data]   Package punkt is already up-to-date!\n",
            "[nltk_data] Downloading package stopwords to /root/nltk_data...\n",
            "[nltk_data]   Package stopwords is already up-to-date!\n",
            "[nltk_data] Downloading package wordnet to /root/nltk_data...\n",
            "[nltk_data]   Package wordnet is already up-to-date!\n"
          ]
        }
      ]
    },
    {
      "cell_type": "code",
      "source": [
        "df_train['cleaned_tweet'] = df_train['Tweet Content'].apply(clean_text)\n",
        "df_test['cleaned_tweet'] = df_test['Tweet Content'].apply(clean_text)"
      ],
      "metadata": {
        "id": "sFk7p0VhmKjp"
      },
      "execution_count": 189,
      "outputs": []
    },
    {
      "cell_type": "code",
      "source": [
        "df_train['Sentiment'] = df_train['Sentiment'].apply(lambda x: 'Neutral' if x.lower() in ['neutral', 'irrelevant'] else x)\n",
        "print(f\"Sentiment value count: \\n {df_train['Sentiment'].value_counts()}\")"
      ],
      "metadata": {
        "colab": {
          "base_uri": "https://localhost:8080/"
        },
        "id": "kdLMPsM6mvaT",
        "outputId": "9097ecc9-004a-47c5-8a71-08564dda2aa9"
      },
      "execution_count": 190,
      "outputs": [
        {
          "output_type": "stream",
          "name": "stdout",
          "text": [
            "Sentiment value count: \n",
            " Sentiment\n",
            "Neutral     29394\n",
            "Negative    21237\n",
            "Positive    19137\n",
            "Name: count, dtype: int64\n"
          ]
        }
      ]
    },
    {
      "cell_type": "code",
      "source": [
        "df_test['Sentiment'] = df_test['Sentiment'].apply(lambda x: 'Neutral' if x.lower() in ['neutral', 'irrelevant'] else x)\n",
        "print(f\"Sentiment value count: \\n {df_test['Sentiment'].value_counts()}\")"
      ],
      "metadata": {
        "colab": {
          "base_uri": "https://localhost:8080/"
        },
        "id": "pSf2DDPRmuwM",
        "outputId": "e39b8049-ba64-42ba-f874-eae561ad42d2"
      },
      "execution_count": 191,
      "outputs": [
        {
          "output_type": "stream",
          "name": "stdout",
          "text": [
            "Sentiment value count: \n",
            " Sentiment\n",
            "Neutral     456\n",
            "Positive    276\n",
            "Negative    266\n",
            "Name: count, dtype: int64\n"
          ]
        }
      ]
    },
    {
      "cell_type": "code",
      "source": [
        "label_encoder = LabelEncoder()\n",
        "df_train['encoded_sentiment'] = label_encoder.fit_transform(df_train['Sentiment'])\n",
        "df_test['encoded_sentiment'] = label_encoder.transform(df_test['Sentiment'])"
      ],
      "metadata": {
        "id": "Lf0WDEmXj3mT"
      },
      "execution_count": 196,
      "outputs": []
    },
    {
      "cell_type": "code",
      "source": [
        "# Combine text from both datasets for Word2Vec training\n",
        "twitter_sentiments = pd.concat([df_train['cleaned_tweet'], df_test['cleaned_tweet']])\n",
        "\n",
        "# Tokenize tweets for Word2Vec\n",
        "tokenized_tweets = [tweet.split() for tweet in twitter_sentiments]\n",
        "\n",
        "# Train Word2Vec model\n",
        "w2v_model = Word2Vec(tokenized_tweets, vector_size=100, window=5, min_count=1, sample=1e-3, epochs=10)"
      ],
      "metadata": {
        "id": "LGRnePYsmDtx"
      },
      "execution_count": 197,
      "outputs": []
    },
    {
      "cell_type": "code",
      "source": [
        "tokenizer = Tokenizer()\n",
        "tokenizer.fit_on_texts(twitter_sentiments)\n",
        "\n",
        "# Convert tweets to sequences\n",
        "train_sequences = tokenizer.texts_to_sequences(df_train['cleaned_tweet'])\n",
        "test_sequences = tokenizer.texts_to_sequences(df_test['cleaned_tweet'])\n",
        "\n",
        "# Pad sequences\n",
        "X_train = pad_sequences(train_sequences, maxlen=100)\n",
        "X_test = pad_sequences(test_sequences, maxlen=100)\n",
        "\n",
        "# Prepare labels\n",
        "y_train = df_train['encoded_sentiment']\n",
        "y_test = df_test['encoded_sentiment']"
      ],
      "metadata": {
        "id": "8JxHnPZum6Jt"
      },
      "execution_count": 199,
      "outputs": []
    },
    {
      "cell_type": "markdown",
      "source": [
        "# LSTM MODEL\n",
        "\n",
        "LSTM adalah jenis RNN yang biasanya digunakan untuk sentiment analisis, LSTM mampu menganalisis teks untuk memahami opini dan emosi yang dapat diperhatikan dari urutan kata dan seluruh konteks kalimatnya."
      ],
      "metadata": {
        "id": "zp01whKYbfDg"
      }
    },
    {
      "cell_type": "code",
      "source": [
        "label_dict = {0: \"Negative\", 1: \"Neutral\", 2: \"Positive\"}"
      ],
      "metadata": {
        "id": "kGnVGvstGs-d"
      },
      "execution_count": 200,
      "outputs": []
    },
    {
      "cell_type": "code",
      "source": [
        "def accuracy_per_class(preds, y_test, label_dict):\n",
        "    y_pred = np.argmax(preds, axis=1)\n",
        "    for label in np.unique(y_test):\n",
        "        idx = (y_test == label)\n",
        "        accuracy = (y_pred[idx] == y_test[idx]).mean()\n",
        "        print(f\"Accuracy for class {label_dict.get(label, label)}: {accuracy:.4f}\")"
      ],
      "metadata": {
        "id": "Qe8ISnZUGAyy"
      },
      "execution_count": 201,
      "outputs": []
    },
    {
      "cell_type": "code",
      "source": [
        "def plot_confusion_matrix(model, X_test, y_test):\n",
        "    # Make predictions\n",
        "    preds = model.predict(X_test)\n",
        "\n",
        "    # Convert probabilities to class labels (if needed)\n",
        "    if len(preds.shape) > 1 and preds.shape[1] > 1:\n",
        "        preds_classes = np.argmax(preds, axis=1)\n",
        "    else:\n",
        "        preds_classes = preds\n",
        "\n",
        "    # Calculate confusion matrix\n",
        "    cm = confusion_matrix(y_test, preds_classes)\n",
        "\n",
        "    # Plot confusion matrix using Seaborn\n",
        "    plt.figure(figsize=(8, 6))\n",
        "    sns.heatmap(cm, annot=True, fmt='d', cmap='Blues', cbar=False,\n",
        "                xticklabels=['1', '2', '3'], yticklabels=['1', '2', '3'])\n",
        "    plt.xlabel('Predicted Labels')\n",
        "    plt.ylabel('True Labels')\n",
        "    plt.title('Confusion Matrix')\n",
        "    plt.show()"
      ],
      "metadata": {
        "id": "MJTPzRk9Jwk3"
      },
      "execution_count": 202,
      "outputs": []
    },
    {
      "cell_type": "code",
      "source": [
        "import matplotlib.pyplot as plt\n",
        "from sklearn.metrics import roc_curve, auc\n",
        "\n",
        "def plot_roc_auc(model, X_test, y_test):\n",
        "    y_probs = model.predict(X_test)\n",
        "    plt.figure(figsize=(8, 6))\n",
        "    n_classes = y_probs.shape[1]\n",
        "    for i in range(n_classes):\n",
        "        fpr, tpr, _ = roc_curve(y_test == i, y_probs[:, i])\n",
        "        roc_auc = auc(fpr, tpr)\n",
        "        plt.plot(fpr, tpr, label=f'Class {i} (AUC = {roc_auc:.2f})')\n",
        "\n",
        "    plt.plot([0, 1], [0, 1], 'k--')\n",
        "    plt.xlim([0.0, 1.0])\n",
        "    plt.ylim([0.0, 1.05])\n",
        "    plt.xlabel('False Positive Rate')\n",
        "    plt.ylabel('True Positive Rate')\n",
        "    plt.title('Receiver Operating Characteristic (ROC)')\n",
        "    plt.legend(loc='lower right')\n",
        "    plt.show()"
      ],
      "metadata": {
        "id": "Qdf3TXjFLdpK"
      },
      "execution_count": 203,
      "outputs": []
    },
    {
      "cell_type": "code",
      "source": [
        "model = Sequential()\n",
        "model.add(Embedding(input_dim = len(tokenizer.word_index) + 1, output_dim = 100))\n",
        "model.add(LSTM(128))\n",
        "model.add(Dense(3, activation='softmax'))"
      ],
      "metadata": {
        "id": "DzvwXbrhke4K"
      },
      "execution_count": 204,
      "outputs": []
    },
    {
      "cell_type": "code",
      "source": [
        "model.compile(optimizer='adam', loss='sparse_categorical_crossentropy', metrics=['accuracy'])"
      ],
      "metadata": {
        "id": "fKak7GMBk5lX"
      },
      "execution_count": 205,
      "outputs": []
    },
    {
      "cell_type": "code",
      "source": [
        "model.fit(X_train, y_train, epochs=10, validation_split=0.2)"
      ],
      "metadata": {
        "colab": {
          "base_uri": "https://localhost:8080/"
        },
        "id": "UN43STeWk_ys",
        "outputId": "b4d0ddd6-0c91-4602-ffd1-5a8da6ffb8b4"
      },
      "execution_count": 206,
      "outputs": [
        {
          "output_type": "stream",
          "name": "stdout",
          "text": [
            "Epoch 1/10\n",
            "1745/1745 [==============================] - 36s 19ms/step - loss: 0.5920 - accuracy: 0.7470 - val_loss: 1.2847 - val_accuracy: 0.5288\n",
            "Epoch 2/10\n",
            "1745/1745 [==============================] - 15s 8ms/step - loss: 0.2223 - accuracy: 0.9164 - val_loss: 1.7123 - val_accuracy: 0.5232\n",
            "Epoch 3/10\n",
            "1745/1745 [==============================] - 15s 8ms/step - loss: 0.1351 - accuracy: 0.9488 - val_loss: 2.1888 - val_accuracy: 0.4983\n",
            "Epoch 4/10\n",
            "1745/1745 [==============================] - 14s 8ms/step - loss: 0.0989 - accuracy: 0.9618 - val_loss: 2.2941 - val_accuracy: 0.5022\n",
            "Epoch 5/10\n",
            "1745/1745 [==============================] - 15s 8ms/step - loss: 0.0798 - accuracy: 0.9687 - val_loss: 2.6030 - val_accuracy: 0.5158\n",
            "Epoch 6/10\n",
            "1745/1745 [==============================] - 14s 8ms/step - loss: 0.0666 - accuracy: 0.9744 - val_loss: 2.6991 - val_accuracy: 0.4993\n",
            "Epoch 7/10\n",
            "1745/1745 [==============================] - 14s 8ms/step - loss: 0.0565 - accuracy: 0.9775 - val_loss: 3.0042 - val_accuracy: 0.4995\n",
            "Epoch 8/10\n",
            "1745/1745 [==============================] - 14s 8ms/step - loss: 0.0503 - accuracy: 0.9799 - val_loss: 3.1054 - val_accuracy: 0.4980\n",
            "Epoch 9/10\n",
            "1745/1745 [==============================] - 14s 8ms/step - loss: 0.0433 - accuracy: 0.9824 - val_loss: 3.3904 - val_accuracy: 0.5081\n",
            "Epoch 10/10\n",
            "1745/1745 [==============================] - 14s 8ms/step - loss: 0.0408 - accuracy: 0.9833 - val_loss: 3.5170 - val_accuracy: 0.4933\n"
          ]
        },
        {
          "output_type": "execute_result",
          "data": {
            "text/plain": [
              "<keras.src.callbacks.History at 0x7b03c5067eb0>"
            ]
          },
          "metadata": {},
          "execution_count": 206
        }
      ]
    },
    {
      "cell_type": "code",
      "source": [
        "loss, accuracy = model.evaluate(X_test, y_test)\n",
        "print(f\"Test Loss: {loss}\")\n",
        "print(f\"Test Accuracy: {accuracy}\")"
      ],
      "metadata": {
        "colab": {
          "base_uri": "https://localhost:8080/"
        },
        "id": "nN9jnkcVbl4g",
        "outputId": "6e563927-aa1a-43f9-aee7-01f3b808fa4e"
      },
      "execution_count": 207,
      "outputs": [
        {
          "output_type": "stream",
          "name": "stdout",
          "text": [
            "32/32 [==============================] - 0s 4ms/step - loss: 0.8924 - accuracy: 0.8617\n",
            "Test Loss: 0.8923883438110352\n",
            "Test Accuracy: 0.8617234230041504\n"
          ]
        }
      ]
    },
    {
      "cell_type": "code",
      "source": [
        "preds = model.predict(X_test)"
      ],
      "metadata": {
        "colab": {
          "base_uri": "https://localhost:8080/"
        },
        "id": "g3sW_4KIGFf5",
        "outputId": "2fa1479f-b238-4f5e-8f2a-4904df9c1183"
      },
      "execution_count": 208,
      "outputs": [
        {
          "output_type": "stream",
          "name": "stdout",
          "text": [
            "32/32 [==============================] - 0s 3ms/step\n"
          ]
        }
      ]
    },
    {
      "cell_type": "code",
      "source": [
        "accuracy_per_class(preds, y_test.values, label_dict)"
      ],
      "metadata": {
        "colab": {
          "base_uri": "https://localhost:8080/"
        },
        "id": "0_BRM7xrGoUO",
        "outputId": "1742f5fc-a7ea-4331-d089-d8bff12b3913"
      },
      "execution_count": 209,
      "outputs": [
        {
          "output_type": "stream",
          "name": "stdout",
          "text": [
            "Accuracy for class Negative: 0.8459\n",
            "Accuracy for class Neutral: 0.8618\n",
            "Accuracy for class Positive: 0.8768\n"
          ]
        }
      ]
    },
    {
      "cell_type": "code",
      "source": [
        "preds_classes = np.argmax(preds, axis=1)"
      ],
      "metadata": {
        "id": "4gf_zBHLHaQz"
      },
      "execution_count": 210,
      "outputs": []
    },
    {
      "cell_type": "code",
      "source": [
        "from sklearn.metrics import classification_report\n",
        "print('\\nClassification Report\\n')\n",
        "print(classification_report(y_test, preds_classes, target_names=['0','1','2']))"
      ],
      "metadata": {
        "colab": {
          "base_uri": "https://localhost:8080/"
        },
        "id": "4pWesM6YHHSP",
        "outputId": "785453e3-9a15-49ef-973b-e5ba8b90a62c"
      },
      "execution_count": 211,
      "outputs": [
        {
          "output_type": "stream",
          "name": "stdout",
          "text": [
            "\n",
            "Classification Report\n",
            "\n",
            "              precision    recall  f1-score   support\n",
            "\n",
            "           0       0.85      0.85      0.85       266\n",
            "           1       0.89      0.86      0.87       456\n",
            "           2       0.83      0.88      0.86       276\n",
            "\n",
            "    accuracy                           0.86       998\n",
            "   macro avg       0.86      0.86      0.86       998\n",
            "weighted avg       0.86      0.86      0.86       998\n",
            "\n"
          ]
        }
      ]
    },
    {
      "cell_type": "code",
      "source": [
        "plot_confusion_matrix(model, X_test, y_test)"
      ],
      "metadata": {
        "colab": {
          "base_uri": "https://localhost:8080/",
          "height": 581
        },
        "id": "zG4EMwoOJ6js",
        "outputId": "32e6be45-3cf9-43fb-a9bf-ca0142ad8cac"
      },
      "execution_count": 212,
      "outputs": [
        {
          "output_type": "stream",
          "name": "stdout",
          "text": [
            "32/32 [==============================] - 0s 3ms/step\n"
          ]
        },
        {
          "output_type": "display_data",
          "data": {
            "text/plain": [
              "<Figure size 800x600 with 1 Axes>"
            ],
            "image/png": "[encoded data removed]"
          },
          "metadata": {}
        }
      ]
    },
    {
      "cell_type": "markdown",
      "source": [
        "Dari hasil confusion matrix diatas model dapat dikatakan baik karena memiliki nilai yang cukup tinggi dalam mempredict, dapat dilihat bahwa predicted labels dengan true labels kebanyakan benar namun memang ada beberapa hasil predict yang tidak sesuai dengan true labelsnya."
      ],
      "metadata": {
        "id": "EOtwGMRIKDWF"
      }
    },
    {
      "cell_type": "code",
      "source": [
        "plot_roc_auc(model, X_test, y_test)"
      ],
      "metadata": {
        "colab": {
          "base_uri": "https://localhost:8080/",
          "height": 581
        },
        "id": "IzGv5h-tLhEw",
        "outputId": "4afff00b-f4a1-4665-b758-dd73ff473ecf"
      },
      "execution_count": 213,
      "outputs": [
        {
          "output_type": "stream",
          "name": "stdout",
          "text": [
            "32/32 [==============================] - 0s 3ms/step\n"
          ]
        },
        {
          "output_type": "display_data",
          "data": {
            "text/plain": [
              "<Figure size 800x600 with 1 Axes>"
            ],
            "image/png": "[encoded data removed]"
          },
          "metadata": {}
        }
      ]
    },
    {
      "cell_type": "markdown",
      "source": [
        "ROC dan AUC merupakan metrik evaluasi yang cukup informatif dan penting dalam sentiment analisis. Nilai ROC dan AUC yang tinggi dapat menunjukkan bahwa model dapat memprediksi dengan baik dan akurat. Dari hasil ROC dan AUC di atas dapat dikatakan bahwa model baik karena nilai AUC masing-masing kelas mendekati 1."
      ],
      "metadata": {
        "id": "j_qxSOnlK_3n"
      }
    },
    {
      "cell_type": "markdown",
      "source": [
        "# GRU MODEL\n",
        "\n",
        "GRU adalah jenis RNN yang biasanya digunakan untuk sentiment analisis, GRU mampu menganalisis teks untuk memahami opini dan emosi yang dapat diperhatikan dari urutan kata dan seluruh konteks kalimatnya. GRU lebih cepat untuk dilatih dibandingkan LSTM."
      ],
      "metadata": {
        "id": "YYgcPV3ob7Qg"
      }
    },
    {
      "cell_type": "code",
      "source": [
        "model2 = Sequential()\n",
        "model2.add(Embedding(input_dim = len(tokenizer.word_index) + 1, output_dim = 100))\n",
        "model2.add(GRU(128))  # GRU layer with 128 units\n",
        "model2.add(Dense(3, activation='softmax'))"
      ],
      "metadata": {
        "id": "6Dw8iTRGb-1B"
      },
      "execution_count": 214,
      "outputs": []
    },
    {
      "cell_type": "code",
      "source": [
        "model2.compile(optimizer='adam', loss='sparse_categorical_crossentropy', metrics=['accuracy'])"
      ],
      "metadata": {
        "id": "S0yRChZFcBzj"
      },
      "execution_count": 215,
      "outputs": []
    },
    {
      "cell_type": "code",
      "source": [
        "model2.fit(X_train, y_train, epochs=10, validation_split=0.2) # Use validation_split for a 20% split"
      ],
      "metadata": {
        "colab": {
          "base_uri": "https://localhost:8080/"
        },
        "id": "4S7aSzz2cIkc",
        "outputId": "c4775f0f-3818-4bef-d9cf-d0924515a17d"
      },
      "execution_count": 216,
      "outputs": [
        {
          "output_type": "stream",
          "name": "stdout",
          "text": [
            "Epoch 1/10\n",
            "1745/1745 [==============================] - 34s 18ms/step - loss: 0.5707 - accuracy: 0.7553 - val_loss: 1.3386 - val_accuracy: 0.5455\n",
            "Epoch 2/10\n",
            "1745/1745 [==============================] - 15s 8ms/step - loss: 0.2013 - accuracy: 0.9252 - val_loss: 1.7075 - val_accuracy: 0.5213\n",
            "Epoch 3/10\n",
            "1745/1745 [==============================] - 14s 8ms/step - loss: 0.1230 - accuracy: 0.9536 - val_loss: 1.9534 - val_accuracy: 0.5145\n",
            "Epoch 4/10\n",
            "1745/1745 [==============================] - 14s 8ms/step - loss: 0.0942 - accuracy: 0.9644 - val_loss: 2.0337 - val_accuracy: 0.5077\n",
            "Epoch 5/10\n",
            "1745/1745 [==============================] - 14s 8ms/step - loss: 0.0711 - accuracy: 0.9723 - val_loss: 2.4059 - val_accuracy: 0.5017\n",
            "Epoch 6/10\n",
            "1745/1745 [==============================] - 13s 8ms/step - loss: 0.0586 - accuracy: 0.9773 - val_loss: 2.5416 - val_accuracy: 0.4982\n",
            "Epoch 7/10\n",
            "1745/1745 [==============================] - 13s 7ms/step - loss: 0.0505 - accuracy: 0.9799 - val_loss: 3.0147 - val_accuracy: 0.4952\n",
            "Epoch 8/10\n",
            "1745/1745 [==============================] - 13s 7ms/step - loss: 0.0432 - accuracy: 0.9822 - val_loss: 3.2511 - val_accuracy: 0.4868\n",
            "Epoch 9/10\n",
            "1745/1745 [==============================] - 13s 8ms/step - loss: 0.0384 - accuracy: 0.9840 - val_loss: 3.0108 - val_accuracy: 0.4984\n",
            "Epoch 10/10\n",
            "1745/1745 [==============================] - 13s 8ms/step - loss: 0.0358 - accuracy: 0.9848 - val_loss: 3.1474 - val_accuracy: 0.5037\n"
          ]
        },
        {
          "output_type": "execute_result",
          "data": {
            "text/plain": [
              "<keras.src.callbacks.History at 0x7b03c486aaa0>"
            ]
          },
          "metadata": {},
          "execution_count": 216
        }
      ]
    },
    {
      "cell_type": "code",
      "source": [
        "loss, accuracy = model2.evaluate(X_test, y_test)\n",
        "print(f\"Test Loss: {loss}\")\n",
        "print(f\"Test Accuracy: {accuracy}\")"
      ],
      "metadata": {
        "id": "ojrjL31zdmO8",
        "outputId": "7490074d-5701-4404-ae1a-05d01ca14c23",
        "colab": {
          "base_uri": "https://localhost:8080/"
        }
      },
      "execution_count": 217,
      "outputs": [
        {
          "output_type": "stream",
          "name": "stdout",
          "text": [
            "32/32 [==============================] - 0s 3ms/step - loss: 0.7755 - accuracy: 0.8677\n",
            "Test Loss: 0.7754607200622559\n",
            "Test Accuracy: 0.8677354454994202\n"
          ]
        }
      ]
    },
    {
      "cell_type": "code",
      "source": [
        "preds_model2 = model2.predict(X_test)"
      ],
      "metadata": {
        "colab": {
          "base_uri": "https://localhost:8080/"
        },
        "id": "vRo7Mk1CIyDG",
        "outputId": "0895c96d-91de-479b-b4a1-2dc0ead157ab"
      },
      "execution_count": 218,
      "outputs": [
        {
          "output_type": "stream",
          "name": "stdout",
          "text": [
            "32/32 [==============================] - 0s 3ms/step\n"
          ]
        }
      ]
    },
    {
      "cell_type": "code",
      "source": [
        "accuracy_per_class(preds_model2, y_test.values, label_dict)"
      ],
      "metadata": {
        "colab": {
          "base_uri": "https://localhost:8080/"
        },
        "id": "x5LFcUHDI5HJ",
        "outputId": "230e7962-48fd-464e-aa2f-22827bb6049d"
      },
      "execution_count": 219,
      "outputs": [
        {
          "output_type": "stream",
          "name": "stdout",
          "text": [
            "Accuracy for class Negative: 0.8609\n",
            "Accuracy for class Neutral: 0.8750\n",
            "Accuracy for class Positive: 0.8623\n"
          ]
        }
      ]
    },
    {
      "cell_type": "code",
      "source": [
        "preds_classesModel2 = np.argmax(preds_model2, axis=1)"
      ],
      "metadata": {
        "id": "vjcztEcOJBXf"
      },
      "execution_count": 220,
      "outputs": []
    },
    {
      "cell_type": "code",
      "source": [
        "from sklearn.metrics import classification_report\n",
        "print('\\nClassification Report\\n')\n",
        "print(classification_report(y_test, preds_classesModel2, target_names=['0','1','2']))"
      ],
      "metadata": {
        "colab": {
          "base_uri": "https://localhost:8080/"
        },
        "id": "fSsMn9uNJHa1",
        "outputId": "6f7fed13-ab25-489b-a394-e7e9617f5f9d"
      },
      "execution_count": 224,
      "outputs": [
        {
          "output_type": "stream",
          "name": "stdout",
          "text": [
            "\n",
            "Classification Report\n",
            "\n",
            "              precision    recall  f1-score   support\n",
            "\n",
            "           0       0.85      0.86      0.85       266\n",
            "           1       0.89      0.88      0.88       456\n",
            "           2       0.85      0.86      0.86       276\n",
            "\n",
            "    accuracy                           0.87       998\n",
            "   macro avg       0.86      0.87      0.86       998\n",
            "weighted avg       0.87      0.87      0.87       998\n",
            "\n"
          ]
        }
      ]
    },
    {
      "cell_type": "markdown",
      "source": [
        "Dari hasil model GRU diatas dapat dikatakan bahwa model yang dilatih cukup baik dengan nilai akurasi 0.87 ,nilai f1-score 0.86, nilai recall 0.87, nilai precision 0.86"
      ],
      "metadata": {
        "id": "MpPyXGE6NDh5"
      }
    },
    {
      "cell_type": "code",
      "source": [
        "plot_confusion_matrix(model2, X_test, y_test)"
      ],
      "metadata": {
        "colab": {
          "base_uri": "https://localhost:8080/",
          "height": 581
        },
        "id": "zwiDSmqKJ_Cl",
        "outputId": "5fe57029-e390-4900-e8b5-314be8a4423d"
      },
      "execution_count": 222,
      "outputs": [
        {
          "output_type": "stream",
          "name": "stdout",
          "text": [
            "32/32 [==============================] - 0s 3ms/step\n"
          ]
        },
        {
          "output_type": "display_data",
          "data": {
            "text/plain": [
              "<Figure size 800x600 with 1 Axes>"
            ],
            "image/png": "[encoded data removed]"
          },
          "metadata": {}
        }
      ]
    },
    {
      "cell_type": "markdown",
      "source": [
        "Hasil Confusion Matrix GRU ini tidak beda jauh dengan LSTM namun jika dibandingkan nilai predict yang tidak sesuai dengan true labels lebih kecil dibandingkan LSTM."
      ],
      "metadata": {
        "id": "pv2B_YYEOCFm"
      }
    },
    {
      "cell_type": "code",
      "source": [
        "plot_roc_auc(model2, X_test, y_test)"
      ],
      "metadata": {
        "colab": {
          "base_uri": "https://localhost:8080/",
          "height": 581
        },
        "id": "DhLmhlE-N23C",
        "outputId": "e0f89d65-879a-4b6e-dbda-baa6b82cba73"
      },
      "execution_count": 223,
      "outputs": [
        {
          "output_type": "stream",
          "name": "stdout",
          "text": [
            "32/32 [==============================] - 0s 4ms/step\n"
          ]
        },
        {
          "output_type": "display_data",
          "data": {
            "text/plain": [
              "<Figure size 800x600 with 1 Axes>"
            ],
            "image/png": "[encoded data removed]"
          },
          "metadata": {}
        }
      ]
    },
    {
      "cell_type": "markdown",
      "source": [
        "ROC dan AUC merupakan metrik evaluasi yang cukup informatif dan penting dalam sentiment analisis. Nilai ROC dan AUC yang tinggi dapat menunjukkan bahwa model dapat memprediksi dengan baik dan akurat. Dari hasil ROC dan AUC di atas dapat dikatakan bahwa model baik karena nilai AUC masing-masing kelas mendekati 1."
      ],
      "metadata": {
        "id": "pkPM3BtoOeOZ"
      }
    },
    {
      "cell_type": "markdown",
      "source": [
        "# Evaluate and Future Direction\n",
        "Dari hasil 2 model diatas yaitu LSTM dan GRU. Saya dapat mengambil kesimpulan bahwa kedua model baik untuk sentiment analisis di case ini namun GRU memiliki hasil yang lebih baik dari nilai accuracy yang hanya beda 0.01 dengan nilai GRU 0.87 dan LSTM 0.86 namun tidak hanya accuracy saja yang menjadi penentuan bahwa model tersebut baik tapi dari hasil Recall, Precision dan F1-Score GRU memiliki hasil yang better dibanding LSTM mungkin hal ini disebabkan karena GRU lebih cepat dilatih dibanding LSTM karena LSTM cukup kompleks. Menurut saya dalam kasus ini GRU lebih baik dibanding LSTM karena nilai akurasi yang lebih baik dan lebih cepat juga. Untuk Kedepannya model ini dapat menambahkan layer pada model yang ingin dibuat karena model yang saya buat layernya sedikit."
      ],
      "metadata": {
        "id": "1nJQLEUOv4Jx"
      }
    }
  ]
}